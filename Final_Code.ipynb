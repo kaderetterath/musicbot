{
 "cells": [
  {
   "cell_type": "code",
   "execution_count": 5,
   "metadata": {},
   "outputs": [
    {
     "name": "stdout",
     "output_type": "stream",
     "text": [
      "5\n",
      "12\n"
     ]
    }
   ],
   "source": [
    "def music():\n",
    "    import datetime as dt\n",
    "    dt.datetime.now()\n",
    "    h = int('{}'.format(dt.datetime.today().hour))\n",
    "    h = h-0\n",
    "    print(h)\n",
    "\n",
    "    import datetime as dt\n",
    "    dt.datetime.now()\n",
    "    m = int('{}'.format(dt.datetime.today().month))\n",
    "    m = m-0\n",
    "    print(m)\n",
    "\n",
    "    from pygame import mixer\n",
    "    mixer.init()\n",
    "    if m == 12:\n",
    "        mixer.music.load(r'C:\\Users\\kader\\Downloads\\Upbeat Christmas - AShamaluevMusic.mp3')\n",
    "        mixer.music.play()\n",
    "    elif  h>=5 and h<=11:\n",
    "        mixer.music.load(r'C:\\Users\\kader\\Downloads\\Final Project\\Vibes.mp3')\n",
    "        mixer.music.play()\n",
    "    elif h>=12 and h<=17:\n",
    "        mixer.music.load(r'C:\\Users\\kader\\Music\\I am Happy - AShamaluevMusic.mp3')\n",
    "        mixer.music.play()\n",
    "    elif h>=18 and h<=24:\n",
    "        mixer.music.load(r'C:\\Users\\kader\\Downloads\\Final Project\\2019-06-12_-_Homework_-_David_Fesliyan.mp3')\n",
    "        mixer.music.play()\n",
    "    elif h>=1 and h<=4:\n",
    "        mixer.music.load(r'C:\\Users\\kader\\Music\\Summer Tropical Dance - AShamaluevMusic.mp3')\n",
    "        mixer.music.play()\n",
    "    \n",
    "music()"
   ]
  },
  {
   "cell_type": "markdown",
   "metadata": {},
   "source": []
  },
  {
   "cell_type": "code",
   "execution_count": 7,
   "metadata": {},
   "outputs": [
    {
     "name": "stdout",
     "output_type": "stream",
     "text": [
      "press Enter to exit\n"
     ]
    },
    {
     "data": {
      "text/plain": [
       "''"
      ]
     },
     "execution_count": 7,
     "metadata": {},
     "output_type": "execute_result"
    }
   ],
   "source": []
  },
  {
   "cell_type": "code",
   "execution_count": null,
   "metadata": {},
   "outputs": [],
   "source": []
  },
  {
   "cell_type": "code",
   "execution_count": null,
   "metadata": {},
   "outputs": [],
   "source": []
  }
 ],
 "metadata": {
  "kernelspec": {
   "display_name": "Python 3",
   "language": "python",
   "name": "python3"
  },
  "language_info": {
   "codemirror_mode": {
    "name": "ipython",
    "version": 3
   },
   "file_extension": ".py",
   "mimetype": "text/x-python",
   "name": "python",
   "nbconvert_exporter": "python",
   "pygments_lexer": "ipython3",
   "version": "3.7.4"
  }
 },
 "nbformat": 4,
 "nbformat_minor": 4
}
